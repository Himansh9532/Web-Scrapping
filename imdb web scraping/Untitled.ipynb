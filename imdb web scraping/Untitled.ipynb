{
 "cells": [
  {
   "cell_type": "code",
   "execution_count": 6,
   "id": "c606b3f2",
   "metadata": {},
   "outputs": [],
   "source": [
    "#importing Libraries\n",
    "import requests\n",
    "from bs4 import BeautifulSoup\n",
    "import csv"
   ]
  },
  {
   "cell_type": "code",
   "execution_count": 7,
   "id": "b949654e",
   "metadata": {},
   "outputs": [
    {
     "name": "stdout",
     "output_type": "stream",
     "text": [
      "Note: you may need to restart the kernel to use updated packages.\n"
     ]
    },
    {
     "name": "stderr",
     "output_type": "stream",
     "text": [
      "ERROR: Could not find a version that satisfies the requirement csv (from versions: none)\n",
      "\n",
      "[notice] A new release of pip is available: 24.1.2 -> 24.2\n",
      "[notice] To update, run: python.exe -m pip install --upgrade pip\n",
      "ERROR: No matching distribution found for csv\n"
     ]
    }
   ],
   "source": [
    "pip install csv"
   ]
  },
  {
   "cell_type": "code",
   "execution_count": 8,
   "id": "e300741d",
   "metadata": {},
   "outputs": [
    {
     "name": "stdout",
     "output_type": "stream",
     "text": [
      "Requirement already satisfied: requests in c:\\users\\himanshu\\anaconda3\\lib\\site-packages (2.32.3)\n",
      "Requirement already satisfied: charset-normalizer<4,>=2 in c:\\users\\himanshu\\anaconda3\\lib\\site-packages (from requests) (3.3.2)\n",
      "Requirement already satisfied: idna<4,>=2.5 in c:\\users\\himanshu\\anaconda3\\lib\\site-packages (from requests) (3.7)\n",
      "Requirement already satisfied: urllib3<3,>=1.21.1 in c:\\users\\himanshu\\anaconda3\\lib\\site-packages (from requests) (2.2.2)\n",
      "Requirement already satisfied: certifi>=2017.4.17 in c:\\users\\himanshu\\anaconda3\\lib\\site-packages (from requests) (2024.7.4)\n",
      "Note: you may need to restart the kernel to use updated packages.\n"
     ]
    },
    {
     "name": "stderr",
     "output_type": "stream",
     "text": [
      "\n",
      "[notice] A new release of pip is available: 24.1.2 -> 24.2\n",
      "[notice] To update, run: python.exe -m pip install --upgrade pip\n"
     ]
    }
   ],
   "source": [
    "pip install requests"
   ]
  },
  {
   "cell_type": "code",
   "execution_count": 14,
   "id": "5e81c06e",
   "metadata": {},
   "outputs": [],
   "source": [
    "url = \"https://www.imdb.com/chart/top/\""
   ]
  },
  {
   "cell_type": "code",
   "execution_count": 15,
   "id": "a09bc3d2",
   "metadata": {},
   "outputs": [],
   "source": [
    "headers = {\"User-Agent\" : \"Mozilla/5.0 (Windows NT 10.0; Win64; x64) AppleWebKit/537.36 (KHTML, like Gecko) Chrome/126.0.0.0 Safari/537.36\"}"
   ]
  },
  {
   "cell_type": "code",
   "execution_count": 16,
   "id": "961ca9cf",
   "metadata": {},
   "outputs": [],
   "source": [
    "response = requests.get(url , headers = headers)"
   ]
  },
  {
   "cell_type": "code",
   "execution_count": 17,
   "id": "2dba735b",
   "metadata": {},
   "outputs": [
    {
     "data": {
      "text/plain": [
       "<Response [200]>"
      ]
     },
     "execution_count": 17,
     "metadata": {},
     "output_type": "execute_result"
    }
   ],
   "source": [
    "response"
   ]
  },
  {
   "cell_type": "code",
   "execution_count": 19,
   "id": "e299f9ac",
   "metadata": {},
   "outputs": [],
   "source": [
    "soup = BeautifulSoup(response.content , \"html.parser\")"
   ]
  },
  {
   "cell_type": "code",
   "execution_count": 22,
   "id": "058b7a9b",
   "metadata": {},
   "outputs": [
    {
     "data": {
      "text/plain": [
       "'1. The Shawshank Redemption'"
      ]
     },
     "execution_count": 22,
     "metadata": {},
     "output_type": "execute_result"
    }
   ],
   "source": [
    "soup.find_all(\"h3\")[1].text"
   ]
  },
  {
   "cell_type": "code",
   "execution_count": 23,
   "id": "edc0d8cf",
   "metadata": {},
   "outputs": [],
   "source": [
    "h3 = soup.find_all('h3')"
   ]
  },
  {
   "cell_type": "code",
   "execution_count": 25,
   "id": "1462bf5e",
   "metadata": {},
   "outputs": [
    {
     "data": {
      "text/plain": [
       "[<h3 class=\"ipc-title__text\">1. The Shawshank Redemption</h3>,\n",
       " <h3 class=\"ipc-title__text\">2. The Godfather</h3>,\n",
       " <h3 class=\"ipc-title__text\">3. The Dark Knight</h3>,\n",
       " <h3 class=\"ipc-title__text\">4. The Godfather: Part II</h3>,\n",
       " <h3 class=\"ipc-title__text\">5. 12 Angry Men</h3>,\n",
       " <h3 class=\"ipc-title__text\">6. Schindler's List</h3>,\n",
       " <h3 class=\"ipc-title__text\">7. The Lord of the Rings: The Return of the King</h3>,\n",
       " <h3 class=\"ipc-title__text\">8. Pulp Fiction</h3>,\n",
       " <h3 class=\"ipc-title__text\">9. The Lord of the Rings: The Fellowship of the Ring</h3>]"
      ]
     },
     "execution_count": 25,
     "metadata": {},
     "output_type": "execute_result"
    }
   ],
   "source": [
    "h3[1:10]"
   ]
  },
  {
   "cell_type": "code",
   "execution_count": 28,
   "id": "82d64b09",
   "metadata": {},
   "outputs": [
    {
     "name": "stdout",
     "output_type": "stream",
     "text": [
      "IMDb Charts\n",
      "1. The Shawshank Redemption\n",
      "2. The Godfather\n",
      "3. The Dark Knight\n",
      "4. The Godfather: Part II\n",
      "5. 12 Angry Men\n",
      "6. Schindler's List\n",
      "7. The Lord of the Rings: The Return of the King\n",
      "8. Pulp Fiction\n",
      "9. The Lord of the Rings: The Fellowship of the Ring\n",
      "10. Il Buono, Il Brutto, Il Cattivo\n",
      "11. Forrest Gump\n",
      "12. The Lord of the Rings: The Two Towers\n",
      "13. Fight Club\n",
      "14. Inception\n",
      "15. Star Wars: Episode V - The Empire Strikes Back\n",
      "16. The Matrix\n",
      "17. GoodFellas\n",
      "18. One Flew Over the Cuckoo's Nest\n",
      "19. Interstellar\n",
      "20. Se7en\n",
      "21. It's a Wonderful Life\n",
      "22. Shichinin No Samurai\n",
      "23. The Silence of the Lambs\n",
      "24. Saving Private Ryan\n",
      "25. City of God\n",
      "Recently viewed\n"
     ]
    }
   ],
   "source": [
    "for movie in h3:\n",
    "    print(movie.text)"
   ]
  },
  {
   "cell_type": "code",
   "execution_count": 38,
   "id": "ff76e75b",
   "metadata": {},
   "outputs": [
    {
     "data": {
      "text/plain": [
       "<li class=\"ipc-metadata-list-summary-item sc-10233bc-0 TwzGn cli-parent\"><div class=\"sc-e5a25b0f-0 iVAGjF cli-poster-container\"><div class=\"ipc-poster ipc-poster--base ipc-poster--dynamic-width ipc-sub-grid-item ipc-sub-grid-item--span-2\" role=\"group\"><div aria-label=\"add to watchlist\" class=\"ipc-watchlist-ribbon ipc-focusable ipc-watchlist-ribbon--s ipc-watchlist-ribbon--base ipc-watchlist-ribbon--loading ipc-watchlist-ribbon--onImage ipc-poster__watchlist-ribbon\" data-testid=\"poster-watchlist-ribbon-add\" role=\"button\" tabindex=\"0\"><svg class=\"ipc-watchlist-ribbon__bg\" height=\"34px\" role=\"presentation\" viewbox=\"0 0 24 34\" width=\"24px\" xmlns=\"http://www.w3.org/2000/svg\"><polygon class=\"ipc-watchlist-ribbon__bg-ribbon\" fill=\"#000000\" points=\"24 0 0 0 0 32 12.2436611 26.2926049 24 31.7728343\"></polygon><polygon class=\"ipc-watchlist-ribbon__bg-hover\" points=\"24 0 0 0 0 32 12.2436611 26.2926049 24 31.7728343\"></polygon><polygon class=\"ipc-watchlist-ribbon__bg-shadow\" points=\"24 31.7728343 24 33.7728343 12.2436611 28.2926049 0 34 0 32 12.2436611 26.2926049\"></polygon></svg><div class=\"ipc-watchlist-ribbon__icon\" role=\"presentation\"><svg class=\"ipc-loader ipc-loader--circle ipc-watchlist-ribbon__loader\" data-testid=\"watchlist-ribbon-loader\" height=\"48px\" role=\"presentation\" version=\"1.1\" viewbox=\"0 0 48 48\" width=\"48px\" xmlns=\"http://www.w3.org/2000/svg\"><g class=\"ipc-loader__container\" fill=\"currentColor\"><circle class=\"ipc-loader__circle ipc-loader__circle--one\" cx=\"24\" cy=\"9\" r=\"4\"></circle><circle class=\"ipc-loader__circle ipc-loader__circle--two\" cx=\"35\" cy=\"14\" r=\"4\"></circle><circle class=\"ipc-loader__circle ipc-loader__circle--three\" cx=\"39\" cy=\"24\" r=\"4\"></circle><circle class=\"ipc-loader__circle ipc-loader__circle--four\" cx=\"35\" cy=\"34\" r=\"4\"></circle><circle class=\"ipc-loader__circle ipc-loader__circle--five\" cx=\"24\" cy=\"39\" r=\"4\"></circle><circle class=\"ipc-loader__circle ipc-loader__circle--six\" cx=\"13\" cy=\"34\" r=\"4\"></circle><circle class=\"ipc-loader__circle ipc-loader__circle--seven\" cx=\"9\" cy=\"24\" r=\"4\"></circle><circle class=\"ipc-loader__circle ipc-loader__circle--eight\" cx=\"13\" cy=\"14\" r=\"4\"></circle></g></svg></div></div><div class=\"ipc-media ipc-media--poster-27x40 ipc-image-media-ratio--poster-27x40 ipc-media--rounded ipc-media--base ipc-media--poster-m ipc-poster__poster-image ipc-media__img\" style=\"width:100%\"><img alt=\"Tim Robbins in The Shawshank Redemption (1994)\" class=\"ipc-image\" loading=\"lazy\" sizes=\"50vw, (min-width: 480px) 34vw, (min-width: 600px) 26vw, (min-width: 1024px) 16vw, (min-width: 1280px) 16vw\" src=\"https://m.media-amazon.com/images/M/MV5BNDE3ODcxYzMtY2YzZC00NmNlLWJiNDMtZDViZWM2MzIxZDYwXkEyXkFqcGdeQXVyNjAwNDUxODI@._V1_QL75_UX140_CR0,1,140,207_.jpg\" srcset=\"https://m.media-amazon.com/images/M/MV5BNDE3ODcxYzMtY2YzZC00NmNlLWJiNDMtZDViZWM2MzIxZDYwXkEyXkFqcGdeQXVyNjAwNDUxODI@._V1_QL75_UX140_CR0,1,140,207_.jpg 140w, https://m.media-amazon.com/images/M/MV5BNDE3ODcxYzMtY2YzZC00NmNlLWJiNDMtZDViZWM2MzIxZDYwXkEyXkFqcGdeQXVyNjAwNDUxODI@._V1_QL75_UX210_CR0,2,210,311_.jpg 210w, https://m.media-amazon.com/images/M/MV5BNDE3ODcxYzMtY2YzZC00NmNlLWJiNDMtZDViZWM2MzIxZDYwXkEyXkFqcGdeQXVyNjAwNDUxODI@._V1_QL75_UX280_CR0,3,280,414_.jpg 280w\" width=\"140\"/></div><a aria-label=\"View title page for The Shawshank Redemption\" class=\"ipc-lockup-overlay ipc-focusable\" href=\"/title/tt0111161/?ref_=chttp_i_1\"><div class=\"ipc-lockup-overlay__screen\"></div></a></div></div><div class=\"ipc-metadata-list-summary-item__c\"><div class=\"ipc-metadata-list-summary-item__tc\"><span aria-disabled=\"false\" class=\"ipc-metadata-list-summary-item__t\"></span><div class=\"sc-b189961a-0 iqHBGn cli-children\"><div class=\"ipc-title ipc-title--base ipc-title--title ipc-title-link-no-icon ipc-title--on-textPrimary sc-b189961a-9 bnSrml cli-title\"><a class=\"ipc-title-link-wrapper\" href=\"/title/tt0111161/?ref_=chttp_t_1\" tabindex=\"0\"><h3 class=\"ipc-title__text\">1. The Shawshank Redemption</h3></a></div><div class=\"sc-b189961a-7 btCcOY cli-title-metadata\"><span class=\"sc-b189961a-8 hCbzGp cli-title-metadata-item\">1994</span><span class=\"sc-b189961a-8 hCbzGp cli-title-metadata-item\">2h 22m</span><span class=\"sc-b189961a-8 hCbzGp cli-title-metadata-item\">A</span></div><span class=\"sc-b189961a-1 kcRAsW\"><div class=\"sc-e2dbc1a3-0 jeHPdh sc-b189961a-2 bglYHz cli-ratings-container\" data-testid=\"ratingGroup--container\"><span aria-label=\"IMDb rating: 9.3\" class=\"ipc-rating-star ipc-rating-star--base ipc-rating-star--imdb ratingGroup--imdb-rating\" data-testid=\"ratingGroup--imdb-rating\"><svg class=\"ipc-icon ipc-icon--star-inline\" fill=\"currentColor\" height=\"24\" role=\"presentation\" viewbox=\"0 0 24 24\" width=\"24\" xmlns=\"http://www.w3.org/2000/svg\"><path d=\"M12 20.1l5.82 3.682c1.066.675 2.37-.322 2.09-1.584l-1.543-6.926 5.146-4.667c.94-.85.435-2.465-.799-2.567l-6.773-.602L13.29.89a1.38 1.38 0 0 0-2.581 0l-2.65 6.53-6.774.602C.052 8.126-.453 9.74.486 10.59l5.147 4.666-1.542 6.926c-.28 1.262 1.023 2.26 2.09 1.585L12 20.099z\"></path></svg><span class=\"ipc-rating-star--rating\">9.3</span><span class=\"ipc-rating-star--voteCount\"> (<!-- -->2.9M<!-- -->)</span></span><button aria-label=\"Rate The Shawshank Redemption\" class=\"ipc-rate-button sc-e2dbc1a3-1 HRgde ratingGroup--user-rating ipc-rate-button--unrated ipc-rate-button--base\" data-testid=\"rate-button\"><span class=\"ipc-rating-star ipc-rating-star--base ipc-rating-star--rate\"><svg class=\"ipc-icon ipc-icon--star-border-inline\" fill=\"currentColor\" height=\"24\" role=\"presentation\" viewbox=\"0 0 24 24\" width=\"24\" xmlns=\"http://www.w3.org/2000/svg\"><path d=\"M22.724 8.217l-6.786-.587-2.65-6.22c-.477-1.133-2.103-1.133-2.58 0l-2.65 6.234-6.772.573c-1.234.098-1.739 1.636-.8 2.446l5.146 4.446-1.542 6.598c-.28 1.202 1.023 2.153 2.09 1.51l5.818-3.495 5.819 3.509c1.065.643 2.37-.308 2.089-1.51l-1.542-6.612 5.145-4.446c.94-.81.45-2.348-.785-2.446zm-10.726 8.89l-5.272 3.174 1.402-5.983-4.655-4.026 6.141-.531 2.384-5.634 2.398 5.648 6.14.531-4.654 4.026 1.402 5.983-5.286-3.187z\"></path></svg><span class=\"ipc-rating-star--rate\">Rate</span></span></button></div></span></div></div></div><div class=\"sc-10233bc-1 iwMlzp cli-post-element\"><button aria-disabled=\"false\" aria-label=\"See more information about The Shawshank Redemption\" class=\"ipc-icon-button cli-info-icon ipc-icon-button--base ipc-icon-button--onAccent2\" role=\"button\" tabindex=\"0\" title=\"See more information about The Shawshank Redemption\"><svg class=\"ipc-icon ipc-icon--info\" fill=\"currentColor\" height=\"24\" role=\"presentation\" viewbox=\"0 0 24 24\" width=\"24\" xmlns=\"http://www.w3.org/2000/svg\"><path d=\"M0 0h24v24H0V0z\" fill=\"none\"></path><path d=\"M11 7h2v2h-2zm0 4h2v6h-2zm1-9C6.48 2 2 6.48 2 12s4.48 10 10 10 10-4.48 10-10S17.52 2 12 2zm0 18c-4.41 0-8-3.59-8-8s3.59-8 8-8 8 3.59 8 8-3.59 8-8 8z\"></path></svg></button></div></li>"
      ]
     },
     "execution_count": 38,
     "metadata": {},
     "output_type": "execute_result"
    }
   ],
   "source": [
    "movies = soup.find_all(\"li\" , class_ =\"ipc-metadata-list-summary-item sc-10233bc-0 TwzGn cli-parent\")\n",
    "movies[0]"
   ]
  },
  {
   "cell_type": "code",
   "execution_count": 56,
   "id": "55631996",
   "metadata": {},
   "outputs": [
    {
     "name": "stdout",
     "output_type": "stream",
     "text": [
      "9.3 \n"
     ]
    }
   ],
   "source": [
    "for movie in movies:\n",
    "    name = movie.find(\"div\" , class_=\"ipc-metadata-list-summary-item__c\").h3.text.split(\".\")[1]\n",
    "    rank = movie.find(\"div\" , class_=\"ipc-metadata-list-summary-item__c\").h3.text.split(\".\")[0]\n",
    "    year = movie.find(\"div\" ,class_=\"sc-b189961a-7 btCcOY cli-title-metadata\").span.text\n",
    "    duration = movie.find(\"div\" ,class_=\"sc-b189961a-7 btCcOY cli-title-metadata\" ).find_all(\"span\")[1].text\n",
    "    rating = movie.find(\"div\" , class_=\"sc-e2dbc1a3-0 jeHPdh sc-b189961a-2 bglYHz cli-ratings-container\").span.text[0:4]\n",
    "    print(rating)\n",
    "    break"
   ]
  },
  {
   "cell_type": "code",
   "execution_count": 60,
   "id": "50ee2e41",
   "metadata": {},
   "outputs": [],
   "source": [
    "with open (\"movie-data.csv\" , \"w\" , newline = \"\" , encoding = \"utf-8 -sig\") as f:\n",
    "    csv_writer = csv.writer(f)\n",
    "    heading = [\"Rank\" , \"Name\" , \"Year\" , \"Duration\"] \n",
    "    csv_writer.writerow(heading)\n",
    "    for movie in movies:\n",
    "            name = movie.find(\"div\" , class_=\"ipc-metadata-list-summary-item__c\").h3.text.split(\".\")[1]\n",
    "            rank = movie.find(\"div\" , class_=\"ipc-metadata-list-summary-item__c\").h3.text.split(\".\")[0]\n",
    "            year = movie.find(\"div\" ,class_=\"sc-b189961a-7 btCcOY cli-title-metadata\").span.text\n",
    "            duration = movie.find(\"div\" ,class_=\"sc-b189961a-7 btCcOY cli-title-metadata\" ).find_all(\"span\")[1].text\n",
    "            rating = movie.find(\"div\" , class_=\"sc-e2dbc1a3-0 jeHPdh sc-b189961a-2 bglYHz cli-ratings-container\").span.text[0:4]\n",
    "            csv_writer.writerow([name , rank , year , duration , rating])"
   ]
  },
  {
   "cell_type": "code",
   "execution_count": 61,
   "id": "5e0a4930",
   "metadata": {},
   "outputs": [],
   "source": [
    "import pandas as pd"
   ]
  },
  {
   "cell_type": "code",
   "execution_count": 63,
   "id": "cd5827a0",
   "metadata": {},
   "outputs": [],
   "source": [
    "df = pd.read_csv(\"movie-data.csv\")"
   ]
  },
  {
   "cell_type": "code",
   "execution_count": 64,
   "id": "746cba08",
   "metadata": {},
   "outputs": [
    {
     "data": {
      "text/html": [
       "<div>\n",
       "<style scoped>\n",
       "    .dataframe tbody tr th:only-of-type {\n",
       "        vertical-align: middle;\n",
       "    }\n",
       "\n",
       "    .dataframe tbody tr th {\n",
       "        vertical-align: top;\n",
       "    }\n",
       "\n",
       "    .dataframe thead th {\n",
       "        text-align: right;\n",
       "    }\n",
       "</style>\n",
       "<table border=\"1\" class=\"dataframe\">\n",
       "  <thead>\n",
       "    <tr style=\"text-align: right;\">\n",
       "      <th></th>\n",
       "      <th>Rank</th>\n",
       "      <th>Name</th>\n",
       "      <th>Year</th>\n",
       "      <th>Duration</th>\n",
       "    </tr>\n",
       "  </thead>\n",
       "  <tbody>\n",
       "    <tr>\n",
       "      <th>The Shawshank Redemption</th>\n",
       "      <td>1</td>\n",
       "      <td>1994</td>\n",
       "      <td>2h 22m</td>\n",
       "      <td>9.3</td>\n",
       "    </tr>\n",
       "    <tr>\n",
       "      <th>The Godfather</th>\n",
       "      <td>2</td>\n",
       "      <td>1972</td>\n",
       "      <td>2h 55m</td>\n",
       "      <td>9.2</td>\n",
       "    </tr>\n",
       "    <tr>\n",
       "      <th>The Dark Knight</th>\n",
       "      <td>3</td>\n",
       "      <td>2008</td>\n",
       "      <td>2h 32m</td>\n",
       "      <td>9.0</td>\n",
       "    </tr>\n",
       "    <tr>\n",
       "      <th>The Godfather: Part II</th>\n",
       "      <td>4</td>\n",
       "      <td>1974</td>\n",
       "      <td>3h 22m</td>\n",
       "      <td>9.0</td>\n",
       "    </tr>\n",
       "    <tr>\n",
       "      <th>12 Angry Men</th>\n",
       "      <td>5</td>\n",
       "      <td>1957</td>\n",
       "      <td>1h 36m</td>\n",
       "      <td>9.0</td>\n",
       "    </tr>\n",
       "    <tr>\n",
       "      <th>Schindler's List</th>\n",
       "      <td>6</td>\n",
       "      <td>1993</td>\n",
       "      <td>3h 15m</td>\n",
       "      <td>9.0</td>\n",
       "    </tr>\n",
       "    <tr>\n",
       "      <th>The Lord of the Rings: The Return of the King</th>\n",
       "      <td>7</td>\n",
       "      <td>2003</td>\n",
       "      <td>3h 21m</td>\n",
       "      <td>9.0</td>\n",
       "    </tr>\n",
       "    <tr>\n",
       "      <th>Pulp Fiction</th>\n",
       "      <td>8</td>\n",
       "      <td>1994</td>\n",
       "      <td>2h 34m</td>\n",
       "      <td>8.9</td>\n",
       "    </tr>\n",
       "    <tr>\n",
       "      <th>The Lord of the Rings: The Fellowship of the Ring</th>\n",
       "      <td>9</td>\n",
       "      <td>2001</td>\n",
       "      <td>2h 58m</td>\n",
       "      <td>8.9</td>\n",
       "    </tr>\n",
       "    <tr>\n",
       "      <th>Il Buono, Il Brutto, Il Cattivo</th>\n",
       "      <td>10</td>\n",
       "      <td>1966</td>\n",
       "      <td>2h 41m</td>\n",
       "      <td>8.8</td>\n",
       "    </tr>\n",
       "    <tr>\n",
       "      <th>Forrest Gump</th>\n",
       "      <td>11</td>\n",
       "      <td>1994</td>\n",
       "      <td>2h 22m</td>\n",
       "      <td>8.8</td>\n",
       "    </tr>\n",
       "    <tr>\n",
       "      <th>The Lord of the Rings: The Two Towers</th>\n",
       "      <td>12</td>\n",
       "      <td>2002</td>\n",
       "      <td>2h 59m</td>\n",
       "      <td>8.8</td>\n",
       "    </tr>\n",
       "    <tr>\n",
       "      <th>Fight Club</th>\n",
       "      <td>13</td>\n",
       "      <td>1999</td>\n",
       "      <td>2h 19m</td>\n",
       "      <td>8.8</td>\n",
       "    </tr>\n",
       "    <tr>\n",
       "      <th>Inception</th>\n",
       "      <td>14</td>\n",
       "      <td>2010</td>\n",
       "      <td>2h 28m</td>\n",
       "      <td>8.8</td>\n",
       "    </tr>\n",
       "    <tr>\n",
       "      <th>Star Wars: Episode V - The Empire Strikes Back</th>\n",
       "      <td>15</td>\n",
       "      <td>1980</td>\n",
       "      <td>2h 4m</td>\n",
       "      <td>8.7</td>\n",
       "    </tr>\n",
       "    <tr>\n",
       "      <th>The Matrix</th>\n",
       "      <td>16</td>\n",
       "      <td>1999</td>\n",
       "      <td>2h 16m</td>\n",
       "      <td>8.7</td>\n",
       "    </tr>\n",
       "    <tr>\n",
       "      <th>GoodFellas</th>\n",
       "      <td>17</td>\n",
       "      <td>1990</td>\n",
       "      <td>2h 25m</td>\n",
       "      <td>8.7</td>\n",
       "    </tr>\n",
       "    <tr>\n",
       "      <th>One Flew Over the Cuckoo's Nest</th>\n",
       "      <td>18</td>\n",
       "      <td>1975</td>\n",
       "      <td>2h 13m</td>\n",
       "      <td>8.7</td>\n",
       "    </tr>\n",
       "    <tr>\n",
       "      <th>Interstellar</th>\n",
       "      <td>19</td>\n",
       "      <td>2014</td>\n",
       "      <td>2h 49m</td>\n",
       "      <td>8.7</td>\n",
       "    </tr>\n",
       "    <tr>\n",
       "      <th>Se7en</th>\n",
       "      <td>20</td>\n",
       "      <td>1995</td>\n",
       "      <td>2h 7m</td>\n",
       "      <td>8.6</td>\n",
       "    </tr>\n",
       "    <tr>\n",
       "      <th>It's a Wonderful Life</th>\n",
       "      <td>21</td>\n",
       "      <td>1946</td>\n",
       "      <td>2h 10m</td>\n",
       "      <td>8.6</td>\n",
       "    </tr>\n",
       "    <tr>\n",
       "      <th>Shichinin No Samurai</th>\n",
       "      <td>22</td>\n",
       "      <td>1954</td>\n",
       "      <td>3h 27m</td>\n",
       "      <td>8.6</td>\n",
       "    </tr>\n",
       "    <tr>\n",
       "      <th>The Silence of the Lambs</th>\n",
       "      <td>23</td>\n",
       "      <td>1991</td>\n",
       "      <td>1h 58m</td>\n",
       "      <td>8.6</td>\n",
       "    </tr>\n",
       "    <tr>\n",
       "      <th>Saving Private Ryan</th>\n",
       "      <td>24</td>\n",
       "      <td>1998</td>\n",
       "      <td>2h 49m</td>\n",
       "      <td>8.6</td>\n",
       "    </tr>\n",
       "    <tr>\n",
       "      <th>City of God</th>\n",
       "      <td>25</td>\n",
       "      <td>2002</td>\n",
       "      <td>2h 10m</td>\n",
       "      <td>8.6</td>\n",
       "    </tr>\n",
       "  </tbody>\n",
       "</table>\n",
       "</div>"
      ],
      "text/plain": [
       "                                                   Rank  Name    Year Duration\n",
       "The Shawshank Redemption                              1  1994  2h 22m     9.3 \n",
       "The Godfather                                         2  1972  2h 55m     9.2 \n",
       "The Dark Knight                                       3  2008  2h 32m     9.0 \n",
       "The Godfather: Part II                                4  1974  3h 22m     9.0 \n",
       "12 Angry Men                                          5  1957  1h 36m     9.0 \n",
       "Schindler's List                                      6  1993  3h 15m     9.0 \n",
       "The Lord of the Rings: The Return of the King         7  2003  3h 21m     9.0 \n",
       "Pulp Fiction                                          8  1994  2h 34m     8.9 \n",
       "The Lord of the Rings: The Fellowship of the Ring     9  2001  2h 58m     8.9 \n",
       "Il Buono, Il Brutto, Il Cattivo                      10  1966  2h 41m     8.8 \n",
       "Forrest Gump                                         11  1994  2h 22m     8.8 \n",
       "The Lord of the Rings: The Two Towers                12  2002  2h 59m     8.8 \n",
       "Fight Club                                           13  1999  2h 19m     8.8 \n",
       "Inception                                            14  2010  2h 28m     8.8 \n",
       "Star Wars: Episode V - The Empire Strikes Back       15  1980   2h 4m     8.7 \n",
       "The Matrix                                           16  1999  2h 16m     8.7 \n",
       "GoodFellas                                           17  1990  2h 25m     8.7 \n",
       "One Flew Over the Cuckoo's Nest                      18  1975  2h 13m     8.7 \n",
       "Interstellar                                         19  2014  2h 49m     8.7 \n",
       "Se7en                                                20  1995   2h 7m     8.6 \n",
       "It's a Wonderful Life                                21  1946  2h 10m     8.6 \n",
       "Shichinin No Samurai                                 22  1954  3h 27m     8.6 \n",
       "The Silence of the Lambs                             23  1991  1h 58m     8.6 \n",
       "Saving Private Ryan                                  24  1998  2h 49m     8.6 \n",
       "City of God                                          25  2002  2h 10m     8.6 "
      ]
     },
     "execution_count": 64,
     "metadata": {},
     "output_type": "execute_result"
    }
   ],
   "source": [
    "df"
   ]
  },
  {
   "cell_type": "code",
   "execution_count": null,
   "id": "269d6a20",
   "metadata": {},
   "outputs": [],
   "source": []
  }
 ],
 "metadata": {
  "kernelspec": {
   "display_name": "Python 3 (ipykernel)",
   "language": "python",
   "name": "python3"
  },
  "language_info": {
   "codemirror_mode": {
    "name": "ipython",
    "version": 3
   },
   "file_extension": ".py",
   "mimetype": "text/x-python",
   "name": "python",
   "nbconvert_exporter": "python",
   "pygments_lexer": "ipython3",
   "version": "3.12.4"
  }
 },
 "nbformat": 4,
 "nbformat_minor": 5
}
