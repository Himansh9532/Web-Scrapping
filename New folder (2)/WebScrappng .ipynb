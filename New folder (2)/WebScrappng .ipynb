{
 "cells": [
  {
   "cell_type": "code",
   "execution_count": 1,
   "id": "f91ee7cb",
   "metadata": {},
   "outputs": [],
   "source": [
    "import requests\n",
    "from bs4 import BeautifulSoup\n",
    "import pandas as pd\n"
   ]
  },
  {
   "cell_type": "code",
   "execution_count": 2,
   "id": "d15c52f9",
   "metadata": {},
   "outputs": [],
   "source": [
    "# List of companies and their websites\n",
    "companies = [\n",
    "    {\"name\": \"Nestle\", \"website\": \"https://www.nestle.com\"},\n",
    "    {\"name\": \"Dr. Reddy's Laboratories\", \"website\": \"https://www.drreddys.com\"},\n",
    "    {\"name\": \"Coca-Cola\", \"website\": \"https://www.coca-colacompany.com\"},\n",
    "    {\"name\": \"Pfizer\", \"website\": \"https://www.pfizer.com\"},\n",
    "    {\"name\": \"PepsiCo\", \"website\": \"https://www.pepsico.com\"},\n",
    "    {\"name\": \"Johnson & Johnson\", \"website\": \"https://www.jnj.com\"},\n",
    "    {\"name\": \"Danone\", \"website\": \"https://www.danone.com\"},\n",
    "    {\"name\": \"Bayer\", \"website\": \"https://www.bayer.com\"},\n",
    "    {\"name\": \"General Mills\", \"website\": \"https://www.generalmills.com\"},\n",
    "    {\"name\": \"GlaxoSmithKline (GSK)\", \"website\": \"https://www.gsk.com\"},\n",
    "    {\"name\": \"Kellogg's\", \"website\": \"https://www.kelloggs.com\"},\n",
    "    {\"name\": \"Merck & Co.\", \"website\": \"https://www.merck.com\"},\n",
    "    {\"name\": \"Unilever\", \"website\": \"https://www.unilever.com\"},\n",
    "    {\"name\": \"Roche\", \"website\": \"https://www.roche.com\"},\n",
    "    {\"name\": \"Nestle Waters\", \"website\": \"https://www.nestlewaters.com\"},\n",
    "    {\"name\": \"Sanofi\", \"website\": \"https://www.sanofi.com\"},\n",
    "    {\"name\": \"Mondelez International\", \"website\": \"https://www.mondelezinternational.com\"},\n",
    "    {\"name\": \"Novartis\", \"website\": \"https://www.novartis.com\"},\n",
    "    {\"name\": \"Kraft Heinz\", \"website\": \"https://www.kraftheinzcompany.com\"},\n",
    "    {\"name\": \"Eli Lilly and Company\", \"website\": \"https://www.lilly.com\"},\n",
    "    {\"name\": \"Tyson Foods\", \"website\": \"https://www.tysonfoods.com\"},\n",
    "    {\"name\": \"Teva Pharmaceuticals\", \"website\": \"https://www.tevapharm.com\"},\n",
    "    {\"name\": \"Mars, Incorporated\", \"website\": \"https://www.mars.com\"},\n",
    "    {\"name\": \"AbbVie\", \"website\": \"https://www.abbvie.com\"},\n",
    "    {\"name\": \"Campbell Soup Company\", \"website\": \"https://www.campbellsoupcompany.com\"},\n",
    "    {\"name\": \"Amgen\", \"website\": \"https://www.amgen.com\"},\n",
    "    {\"name\": \"Conagra Brands\", \"website\": \"https://www.conagrabrands.com\"},\n",
    "    {\"name\": \"AstraZeneca\", \"website\": \"https://www.astrazeneca.com\"},\n",
    "    {\"name\": \"Molson Coors\", \"website\": \"https://www.molsoncoors.com\"},\n",
    "    {\"name\": \"Boehringer Ingelheim\", \"website\": \"https://www.boehringeringelheim.com\"},\n",
    "    {\"name\": \"AB InBev\", \"website\": \"https://www.abinbev.com\"},\n",
    "    {\"name\": \"BASF\", \"website\": \"https://www.basf.com\"},\n",
    "    {\"name\": \"Diageo\", \"website\": \"https://www.diageo.com\"},\n",
    "    {\"name\": \"Procter & Gamble (P&G)\", \"website\": \"https://www.pg.com\"},\n",
    "    {\"name\": \"Heineken\", \"website\": \"https://www.theheinekencompany.com\"},\n",
    "    {\"name\": \"Medtronic\", \"website\": \"https://www.medtronic.com\"},\n",
    "    {\"name\": \"McKesson\", \"website\": \"https://www.mckesson.com\"},\n",
    "    {\"name\": \"AmerisourceBergen\", \"website\": \"https://www.amerisourcebergen.com\"},\n",
    "    {\"name\": \"Cardinal Health\" , \"website\": \"https://www.cardinalhealth.com\"}\n",
    "   \n",
    "]\n",
    "\n"
   ]
  },
  {
   "cell_type": "code",
   "execution_count": 3,
   "id": "3a5a3baa",
   "metadata": {},
   "outputs": [],
   "source": [
    "# Function to scrape and categorize data\n",
    "def scrape_company_info(website):\n",
    "    try:\n",
    "        response = requests.get(website)\n",
    "        soup = BeautifulSoup(response.content, \"html.parser\")\n",
    "        content = soup.get_text().lower()\n",
    "\n",
    "        # Relevance check based on keywords\n",
    "        relevant = \"yes\" if any(keyword in content for keyword in [\"probiotics\", \"health\", \"nutrition\"]) else \"no\"\n",
    "\n",
    "        # Category identification logic\n",
    "        fnb = \"yes\" if \"food\" in content or \"beverage\" in content else \"no\"\n",
    "        manufacturer = \"yes\" if \"manufacture\" in content or \"plant\" in content else \"no\"\n",
    "        brand = \"yes\" if \"brand\" in content else \"no\"\n",
    "        distributor = \"yes\" if \"distributor\" in content or \"bulk\" in content else \"no\"\n",
    "\n",
    "        # Health segment keywords\n",
    "        probiotics = \"yes\" if \"probiotics\" in content else \"no\"\n",
    "        gut_health = \"yes\" if \"gut health\" in content else \"no\"\n",
    "        womens_health = \"yes\" if \"women's health\" in content else \"no\"\n",
    "        cognitive_health = \"yes\" if \"cognitive health\" in content else \"no\"\n",
    "\n",
    "        return relevant, fnb, manufacturer, brand, distributor, probiotics, gut_health, womens_health, cognitive_health\n",
    "\n",
    "    except Exception as e:\n",
    "        return [\"Error\"] * 9  # In case of an error, return placeholders\n"
   ]
  },
  {
   "cell_type": "code",
   "execution_count": null,
   "id": "368cba41",
   "metadata": {},
   "outputs": [],
   "source": [
    "\n",
    "# Scrape each company\n",
    "company_data = []\n",
    "for company in companies:\n",
    "    relevant, fnb, manufacturer, brand, distributor, probiotics, gut_health, womens_health, cognitive_health = scrape_company_info(company[\"website\"])\n",
    "    company_data.append({\n",
    "        \"name\": company[\"name\"],\n",
    "        \"website\": company[\"website\"],\n",
    "        \"Relevant\": relevant,\n",
    "        \"F&B\": fnb,\n",
    "        \"Manufacturer\": manufacturer,\n",
    "        \"Brand\": brand,\n",
    "        \"Distributor\": distributor,\n",
    "        \"Probiotics\": probiotics,\n",
    "        \"Gut Health\": gut_health,\n",
    "        \"Womens Health\": womens_health,\n",
    "        \"Cognitive Health\": cognitive_health\n",
    "    })"
   ]
  },
  {
   "cell_type": "code",
   "execution_count": null,
   "id": "95b7f522",
   "metadata": {},
   "outputs": [],
   "source": [
    "# Convert to DataFrame\n",
    "df = pd.DataFrame(company_data)\n",
    "\n",
    "# Save to Excel for further analysis\n",
    "df.to_excel(\"company_analysis_detailed.xlsx\", index=False)\n",
    "\n",
    "# Display the DataFrame\n",
    "df"
   ]
  },
  {
   "cell_type": "code",
   "execution_count": null,
   "id": "0bbda4c1",
   "metadata": {},
   "outputs": [],
   "source": [
    "df.to_excel(\"Project.xlsx\", index=False)"
   ]
  },
  {
   "cell_type": "code",
   "execution_count": null,
   "id": "42422bd4",
   "metadata": {},
   "outputs": [],
   "source": []
  }
 ],
 "metadata": {
  "kernelspec": {
   "display_name": "Python 3 (ipykernel)",
   "language": "python",
   "name": "python3"
  },
  "language_info": {
   "codemirror_mode": {
    "name": "ipython",
    "version": 3
   },
   "file_extension": ".py",
   "mimetype": "text/x-python",
   "name": "python",
   "nbconvert_exporter": "python",
   "pygments_lexer": "ipython3",
   "version": "3.12.4"
  }
 },
 "nbformat": 4,
 "nbformat_minor": 5
}
